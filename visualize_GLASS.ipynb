{
 "cells": [
  {
   "cell_type": "code",
   "execution_count": 1,
   "metadata": {},
   "outputs": [
    {
     "name": "stdout",
     "output_type": "stream",
     "text": [
      "INFO: Pandarallel will run on 8 workers.\n",
      "INFO: Pandarallel will use Memory file system to transfer data between the main process and workers.\n"
     ]
    }
   ],
   "source": [
    "import pandas as pd\n",
    "from map4 import MAP4Calculator\n",
    "from rdkit import Chem\n",
    "import numpy as np\n",
    "from pandarallel import pandarallel\n",
    "pandarallel.initialize(progress_bar=True)\n",
    "import tmap as tm\n",
    "from faerun import Faerun\n",
    "from matplotlib.colors import ListedColormap"
   ]
  },
  {
   "cell_type": "code",
   "execution_count": 2,
   "metadata": {},
   "outputs": [],
   "source": [
    "glass = pd.read_csv(\"ligands.tsv\", sep=\"\\t\")"
   ]
  },
  {
   "cell_type": "code",
   "execution_count": 3,
   "metadata": {},
   "outputs": [],
   "source": [
    "suppl = Chem.SDMolSupplier(str(\"P08173.sdf\"))\n",
    "df_rows = []\n",
    "for mol in suppl:\n",
    "    if mol is not None:\n",
    "        inchi = mol.GetProp(\"InChI Key\")\n",
    "        smiles = Chem.MolToSmiles(mol)\n",
    "        df_rows.append([inchi,smiles,mol])\n",
    "mol_df = pd.DataFrame(df_rows, columns=('InChI Key', \"smiles\",'mol'))"
   ]
  },
  {
   "cell_type": "code",
   "execution_count": 4,
   "metadata": {},
   "outputs": [],
   "source": [
    "M4_ligands = mol_df['InChI Key'].to_list()"
   ]
  },
  {
   "cell_type": "code",
   "execution_count": 5,
   "metadata": {},
   "outputs": [],
   "source": [
    "def M4_ligand(inchi):\n",
    "    if inchi in M4_ligands:\n",
    "        return 1\n",
    "    else:\n",
    "        return 0"
   ]
  },
  {
   "cell_type": "code",
   "execution_count": 6,
   "metadata": {},
   "outputs": [],
   "source": [
    "glass[\"M4_ligand\"] = glass[\"InChI Key\"].map(M4_ligand)"
   ]
  },
  {
   "cell_type": "code",
   "execution_count": 7,
   "metadata": {},
   "outputs": [
    {
     "data": {
      "text/html": [
       "<div>\n",
       "<style scoped>\n",
       "    .dataframe tbody tr th:only-of-type {\n",
       "        vertical-align: middle;\n",
       "    }\n",
       "\n",
       "    .dataframe tbody tr th {\n",
       "        vertical-align: top;\n",
       "    }\n",
       "\n",
       "    .dataframe thead th {\n",
       "        text-align: right;\n",
       "    }\n",
       "</style>\n",
       "<table border=\"1\" class=\"dataframe\">\n",
       "  <thead>\n",
       "    <tr style=\"text-align: right;\">\n",
       "      <th></th>\n",
       "      <th>Ligand Name</th>\n",
       "      <th>CID</th>\n",
       "      <th>Molecular Formula</th>\n",
       "      <th>Molecular Weight</th>\n",
       "      <th>IUPAC Name</th>\n",
       "      <th>Canonical SMILES</th>\n",
       "      <th>Isomeric SMILES</th>\n",
       "      <th>InChI Std. ID</th>\n",
       "      <th>InChI Key</th>\n",
       "      <th>XlogP</th>\n",
       "      <th>Hydrogen Bond Donors</th>\n",
       "      <th>Hydrogen Bond Acceptors</th>\n",
       "      <th>M4_ligand</th>\n",
       "    </tr>\n",
       "  </thead>\n",
       "  <tbody>\n",
       "    <tr>\n",
       "      <th>192</th>\n",
       "      <td>CHEMBL24369</td>\n",
       "      <td>15157141</td>\n",
       "      <td>C24H39NO2</td>\n",
       "      <td>373.581</td>\n",
       "      <td>5-(diethylamino)pentyl 2-cyclohexyl-2-phenylpr...</td>\n",
       "      <td>CCN(CC)CCCCCOC(=O)C(C)(C1CCCCC1)C2=CC=CC=C2</td>\n",
       "      <td>CCN(CC)CCCCCOC(=O)C(C)(C1CCCCC1)C2=CC=CC=C2</td>\n",
       "      <td>InChI=1S/C24H39NO2/c1-4-25(5-2)19-13-8-14-20-2...</td>\n",
       "      <td>SHORJVPMMAZEFL-UHFFFAOYSA-N</td>\n",
       "      <td>6.7</td>\n",
       "      <td>0</td>\n",
       "      <td>3</td>\n",
       "      <td>1</td>\n",
       "    </tr>\n",
       "    <tr>\n",
       "      <th>840</th>\n",
       "      <td>CHEMBL120599</td>\n",
       "      <td>44346318</td>\n",
       "      <td>C24H33NO6</td>\n",
       "      <td>431.529</td>\n",
       "      <td>2-cyclohexylethyl 1-ethyl-4-phenyl-3,6-dihydro...</td>\n",
       "      <td>CCN1CC=C(C(C1)C(=O)OCCC2CCCCC2)C3=CC=CC=C3.C(=...</td>\n",
       "      <td>CCN1CC=C(C(C1)C(=O)OCCC2CCCCC2)C3=CC=CC=C3.C(=...</td>\n",
       "      <td>InChI=1S/C22H31NO2.C2H2O4/c1-2-23-15-13-20(19-...</td>\n",
       "      <td>OODYHGDZYKNGBL-UHFFFAOYSA-N</td>\n",
       "      <td>NaN</td>\n",
       "      <td>2</td>\n",
       "      <td>7</td>\n",
       "      <td>1</td>\n",
       "    </tr>\n",
       "    <tr>\n",
       "      <th>909</th>\n",
       "      <td>CHEMBL3310918</td>\n",
       "      <td>73671019</td>\n",
       "      <td>C25H37N5O3</td>\n",
       "      <td>455.603</td>\n",
       "      <td>ethyl 4-[[1-(pyrrolidine-1-carbonyl)spiro[2H-p...</td>\n",
       "      <td>CCOC(=O)N1CCC(CC1)CN2CCC3(CC2)CN(C4=C3C=CC=N4)...</td>\n",
       "      <td>CCOC(=O)N1CCC(CC1)CN2CCC3(CC2)CN(C4=C3C=CC=N4)...</td>\n",
       "      <td>InChI=1S/C25H37N5O3/c1-2-33-24(32)29-14-7-20(8...</td>\n",
       "      <td>ZVUHRPULMOACBY-UHFFFAOYSA-N</td>\n",
       "      <td>2.4</td>\n",
       "      <td>0</td>\n",
       "      <td>5</td>\n",
       "      <td>1</td>\n",
       "    </tr>\n",
       "    <tr>\n",
       "      <th>948</th>\n",
       "      <td>CHEMBL594376</td>\n",
       "      <td>46227554</td>\n",
       "      <td>C9H20INO2</td>\n",
       "      <td>301.168</td>\n",
       "      <td>trimethyl-[[(2R,5R)-5-methyl-1,4-dioxan-2-yl]m...</td>\n",
       "      <td>CC1COC(CO1)C[N+](C)(C)C.[I-]</td>\n",
       "      <td>C[C@@H]1CO[C@@H](CO1)C[N+](C)(C)C.[I-]</td>\n",
       "      <td>InChI=1S/C9H20NO2.HI/c1-8-6-12-9(7-11-8)5-10(2...</td>\n",
       "      <td>MMFSFQDCALVVNK-VTLYIQCISA-M</td>\n",
       "      <td>NaN</td>\n",
       "      <td>0</td>\n",
       "      <td>3</td>\n",
       "      <td>1</td>\n",
       "    </tr>\n",
       "    <tr>\n",
       "      <th>1638</th>\n",
       "      <td>R-dimethindene</td>\n",
       "      <td>12963076</td>\n",
       "      <td>C20H24N2</td>\n",
       "      <td>292.426</td>\n",
       "      <td>N,N-dimethyl-2-[3-[(1R)-1-pyridin-2-ylethyl]-1...</td>\n",
       "      <td>CC(C1=CC=CC=N1)C2=C(CC3=CC=CC=C32)CCN(C)C</td>\n",
       "      <td>C[C@@H](C1=CC=CC=N1)C2=C(CC3=CC=CC=C32)CCN(C)C</td>\n",
       "      <td>InChI=1S/C20H24N2/c1-15(19-10-6-7-12-21-19)20-...</td>\n",
       "      <td>MVMQESMQSYOVGV-HNNXBMFYSA-N</td>\n",
       "      <td>2.7</td>\n",
       "      <td>0</td>\n",
       "      <td>2</td>\n",
       "      <td>1</td>\n",
       "    </tr>\n",
       "    <tr>\n",
       "      <th>...</th>\n",
       "      <td>...</td>\n",
       "      <td>...</td>\n",
       "      <td>...</td>\n",
       "      <td>...</td>\n",
       "      <td>...</td>\n",
       "      <td>...</td>\n",
       "      <td>...</td>\n",
       "      <td>...</td>\n",
       "      <td>...</td>\n",
       "      <td>...</td>\n",
       "      <td>...</td>\n",
       "      <td>...</td>\n",
       "      <td>...</td>\n",
       "    </tr>\n",
       "    <tr>\n",
       "      <th>341744</th>\n",
       "      <td>CHEMBL491208</td>\n",
       "      <td>44579416</td>\n",
       "      <td>C25H28ClN5O</td>\n",
       "      <td>449.983</td>\n",
       "      <td>2-[[4-[4-(5-chloro-2-oxo-3H-benzimidazol-1-yl)...</td>\n",
       "      <td>C1CN(CCC1N2CCC(CC2)N3C4=C(C=C(C=C4)Cl)NC3=O)CC...</td>\n",
       "      <td>C1CN(CCC1N2CCC(CC2)N3C4=C(C=C(C=C4)Cl)NC3=O)CC...</td>\n",
       "      <td>InChI=1S/C25H28ClN5O/c26-20-5-6-24-23(15-20)28...</td>\n",
       "      <td>FVBQJCJEQPAJFJ-UHFFFAOYSA-N</td>\n",
       "      <td>3.8</td>\n",
       "      <td>1</td>\n",
       "      <td>4</td>\n",
       "      <td>1</td>\n",
       "    </tr>\n",
       "    <tr>\n",
       "      <th>341793</th>\n",
       "      <td>amisulpride</td>\n",
       "      <td>2159</td>\n",
       "      <td>C17H27N3O4S</td>\n",
       "      <td>369.480</td>\n",
       "      <td>4-amino-N-[(1-ethylpyrrolidin-2-yl)methyl]-5-e...</td>\n",
       "      <td>CCN1CCCC1CNC(=O)C2=CC(=C(C=C2OC)N)S(=O)(=O)CC</td>\n",
       "      <td>CCN1CCCC1CNC(=O)C2=CC(=C(C=C2OC)N)S(=O)(=O)CC</td>\n",
       "      <td>InChI=1S/C17H27N3O4S/c1-4-20-8-6-7-12(20)11-19...</td>\n",
       "      <td>NTJOBXMMWNYJFB-UHFFFAOYSA-N</td>\n",
       "      <td>1.5</td>\n",
       "      <td>2</td>\n",
       "      <td>6</td>\n",
       "      <td>1</td>\n",
       "    </tr>\n",
       "    <tr>\n",
       "      <th>342131</th>\n",
       "      <td>CID 559589</td>\n",
       "      <td>559589</td>\n",
       "      <td>C19H32BrNO2</td>\n",
       "      <td>386.374</td>\n",
       "      <td>diethyl-methyl-[2-(3-methyl-2-phenylpentanoyl)...</td>\n",
       "      <td>CCC(C)C(C1=CC=CC=C1)C(=O)OCC[N+](C)(CC)CC.[Br-]</td>\n",
       "      <td>CCC(C)C(C1=CC=CC=C1)C(=O)OCC[N+](C)(CC)CC.[Br-]</td>\n",
       "      <td>InChI=1S/C19H32NO2.BrH/c1-6-16(4)18(17-12-10-9...</td>\n",
       "      <td>CEJGGHKJHDHLAZ-UHFFFAOYSA-M</td>\n",
       "      <td>NaN</td>\n",
       "      <td>0</td>\n",
       "      <td>3</td>\n",
       "      <td>1</td>\n",
       "    </tr>\n",
       "    <tr>\n",
       "      <th>342514</th>\n",
       "      <td>CHEMBL487984</td>\n",
       "      <td>44589643</td>\n",
       "      <td>C23H27BrN4O3S</td>\n",
       "      <td>519.458</td>\n",
       "      <td>3-[1-[1-(benzenesulfonyl)piperidin-4-yl]piperi...</td>\n",
       "      <td>C1CN(CCC1N2C3=C(C=C(C=C3)Br)NC2=O)C4CCN(CC4)S(...</td>\n",
       "      <td>C1CN(CCC1N2C3=C(C=C(C=C3)Br)NC2=O)C4CCN(CC4)S(...</td>\n",
       "      <td>InChI=1S/C23H27BrN4O3S/c24-17-6-7-22-21(16-17)...</td>\n",
       "      <td>ZYKHMDFAAIQNQH-UHFFFAOYSA-N</td>\n",
       "      <td>3.4</td>\n",
       "      <td>1</td>\n",
       "      <td>5</td>\n",
       "      <td>1</td>\n",
       "    </tr>\n",
       "    <tr>\n",
       "      <th>342534</th>\n",
       "      <td>CHEMBL3351103</td>\n",
       "      <td>11651360</td>\n",
       "      <td>C9H17NO2S</td>\n",
       "      <td>203.300</td>\n",
       "      <td>(2R,3S,5R)-2-methyl-5-[(2R)-1-methylpyrrolidin...</td>\n",
       "      <td>CC1OC(CS1=O)C2CCCN2C</td>\n",
       "      <td>C[C@@H]1O[C@@H](C[S@@]1=O)[C@H]2CCCN2C</td>\n",
       "      <td>InChI=1S/C9H17NO2S/c1-7-12-9(6-13(7)11)8-4-3-5...</td>\n",
       "      <td>FXAMBWMILDAFOW-SKNMHBRKSA-N</td>\n",
       "      <td>0.0</td>\n",
       "      <td>0</td>\n",
       "      <td>4</td>\n",
       "      <td>1</td>\n",
       "    </tr>\n",
       "  </tbody>\n",
       "</table>\n",
       "<p>1403 rows × 13 columns</p>\n",
       "</div>"
      ],
      "text/plain": [
       "           Ligand Name       CID Molecular Formula  Molecular Weight  \\\n",
       "192        CHEMBL24369  15157141         C24H39NO2           373.581   \n",
       "840       CHEMBL120599  44346318         C24H33NO6           431.529   \n",
       "909      CHEMBL3310918  73671019        C25H37N5O3           455.603   \n",
       "948       CHEMBL594376  46227554         C9H20INO2           301.168   \n",
       "1638    R-dimethindene  12963076          C20H24N2           292.426   \n",
       "...                ...       ...               ...               ...   \n",
       "341744    CHEMBL491208  44579416       C25H28ClN5O           449.983   \n",
       "341793     amisulpride      2159       C17H27N3O4S           369.480   \n",
       "342131      CID 559589    559589       C19H32BrNO2           386.374   \n",
       "342514    CHEMBL487984  44589643     C23H27BrN4O3S           519.458   \n",
       "342534   CHEMBL3351103  11651360         C9H17NO2S           203.300   \n",
       "\n",
       "                                               IUPAC Name  \\\n",
       "192     5-(diethylamino)pentyl 2-cyclohexyl-2-phenylpr...   \n",
       "840     2-cyclohexylethyl 1-ethyl-4-phenyl-3,6-dihydro...   \n",
       "909     ethyl 4-[[1-(pyrrolidine-1-carbonyl)spiro[2H-p...   \n",
       "948     trimethyl-[[(2R,5R)-5-methyl-1,4-dioxan-2-yl]m...   \n",
       "1638    N,N-dimethyl-2-[3-[(1R)-1-pyridin-2-ylethyl]-1...   \n",
       "...                                                   ...   \n",
       "341744  2-[[4-[4-(5-chloro-2-oxo-3H-benzimidazol-1-yl)...   \n",
       "341793  4-amino-N-[(1-ethylpyrrolidin-2-yl)methyl]-5-e...   \n",
       "342131  diethyl-methyl-[2-(3-methyl-2-phenylpentanoyl)...   \n",
       "342514  3-[1-[1-(benzenesulfonyl)piperidin-4-yl]piperi...   \n",
       "342534  (2R,3S,5R)-2-methyl-5-[(2R)-1-methylpyrrolidin...   \n",
       "\n",
       "                                         Canonical SMILES  \\\n",
       "192           CCN(CC)CCCCCOC(=O)C(C)(C1CCCCC1)C2=CC=CC=C2   \n",
       "840     CCN1CC=C(C(C1)C(=O)OCCC2CCCCC2)C3=CC=CC=C3.C(=...   \n",
       "909     CCOC(=O)N1CCC(CC1)CN2CCC3(CC2)CN(C4=C3C=CC=N4)...   \n",
       "948                          CC1COC(CO1)C[N+](C)(C)C.[I-]   \n",
       "1638            CC(C1=CC=CC=N1)C2=C(CC3=CC=CC=C32)CCN(C)C   \n",
       "...                                                   ...   \n",
       "341744  C1CN(CCC1N2CCC(CC2)N3C4=C(C=C(C=C4)Cl)NC3=O)CC...   \n",
       "341793      CCN1CCCC1CNC(=O)C2=CC(=C(C=C2OC)N)S(=O)(=O)CC   \n",
       "342131    CCC(C)C(C1=CC=CC=C1)C(=O)OCC[N+](C)(CC)CC.[Br-]   \n",
       "342514  C1CN(CCC1N2C3=C(C=C(C=C3)Br)NC2=O)C4CCN(CC4)S(...   \n",
       "342534                               CC1OC(CS1=O)C2CCCN2C   \n",
       "\n",
       "                                          Isomeric SMILES  \\\n",
       "192           CCN(CC)CCCCCOC(=O)C(C)(C1CCCCC1)C2=CC=CC=C2   \n",
       "840     CCN1CC=C(C(C1)C(=O)OCCC2CCCCC2)C3=CC=CC=C3.C(=...   \n",
       "909     CCOC(=O)N1CCC(CC1)CN2CCC3(CC2)CN(C4=C3C=CC=N4)...   \n",
       "948                C[C@@H]1CO[C@@H](CO1)C[N+](C)(C)C.[I-]   \n",
       "1638       C[C@@H](C1=CC=CC=N1)C2=C(CC3=CC=CC=C32)CCN(C)C   \n",
       "...                                                   ...   \n",
       "341744  C1CN(CCC1N2CCC(CC2)N3C4=C(C=C(C=C4)Cl)NC3=O)CC...   \n",
       "341793      CCN1CCCC1CNC(=O)C2=CC(=C(C=C2OC)N)S(=O)(=O)CC   \n",
       "342131    CCC(C)C(C1=CC=CC=C1)C(=O)OCC[N+](C)(CC)CC.[Br-]   \n",
       "342514  C1CN(CCC1N2C3=C(C=C(C=C3)Br)NC2=O)C4CCN(CC4)S(...   \n",
       "342534             C[C@@H]1O[C@@H](C[S@@]1=O)[C@H]2CCCN2C   \n",
       "\n",
       "                                            InChI Std. ID  \\\n",
       "192     InChI=1S/C24H39NO2/c1-4-25(5-2)19-13-8-14-20-2...   \n",
       "840     InChI=1S/C22H31NO2.C2H2O4/c1-2-23-15-13-20(19-...   \n",
       "909     InChI=1S/C25H37N5O3/c1-2-33-24(32)29-14-7-20(8...   \n",
       "948     InChI=1S/C9H20NO2.HI/c1-8-6-12-9(7-11-8)5-10(2...   \n",
       "1638    InChI=1S/C20H24N2/c1-15(19-10-6-7-12-21-19)20-...   \n",
       "...                                                   ...   \n",
       "341744  InChI=1S/C25H28ClN5O/c26-20-5-6-24-23(15-20)28...   \n",
       "341793  InChI=1S/C17H27N3O4S/c1-4-20-8-6-7-12(20)11-19...   \n",
       "342131  InChI=1S/C19H32NO2.BrH/c1-6-16(4)18(17-12-10-9...   \n",
       "342514  InChI=1S/C23H27BrN4O3S/c24-17-6-7-22-21(16-17)...   \n",
       "342534  InChI=1S/C9H17NO2S/c1-7-12-9(6-13(7)11)8-4-3-5...   \n",
       "\n",
       "                          InChI Key  XlogP  Hydrogen Bond Donors  \\\n",
       "192     SHORJVPMMAZEFL-UHFFFAOYSA-N    6.7                     0   \n",
       "840     OODYHGDZYKNGBL-UHFFFAOYSA-N    NaN                     2   \n",
       "909     ZVUHRPULMOACBY-UHFFFAOYSA-N    2.4                     0   \n",
       "948     MMFSFQDCALVVNK-VTLYIQCISA-M    NaN                     0   \n",
       "1638    MVMQESMQSYOVGV-HNNXBMFYSA-N    2.7                     0   \n",
       "...                             ...    ...                   ...   \n",
       "341744  FVBQJCJEQPAJFJ-UHFFFAOYSA-N    3.8                     1   \n",
       "341793  NTJOBXMMWNYJFB-UHFFFAOYSA-N    1.5                     2   \n",
       "342131  CEJGGHKJHDHLAZ-UHFFFAOYSA-M    NaN                     0   \n",
       "342514  ZYKHMDFAAIQNQH-UHFFFAOYSA-N    3.4                     1   \n",
       "342534  FXAMBWMILDAFOW-SKNMHBRKSA-N    0.0                     0   \n",
       "\n",
       "        Hydrogen Bond Acceptors  M4_ligand  \n",
       "192                           3          1  \n",
       "840                           7          1  \n",
       "909                           5          1  \n",
       "948                           3          1  \n",
       "1638                          2          1  \n",
       "...                         ...        ...  \n",
       "341744                        4          1  \n",
       "341793                        6          1  \n",
       "342131                        3          1  \n",
       "342514                        5          1  \n",
       "342534                        4          1  \n",
       "\n",
       "[1403 rows x 13 columns]"
      ]
     },
     "execution_count": 7,
     "metadata": {},
     "output_type": "execute_result"
    }
   ],
   "source": [
    "glass.query(\"M4_ligand == 1\")"
   ]
  },
  {
   "cell_type": "code",
   "execution_count": 8,
   "metadata": {},
   "outputs": [],
   "source": [
    "MAP4 = MAP4Calculator(dimensions=1024)\n",
    "def calc_map4(SMILES):\n",
    "    SMILES = max(SMILES.split(\".\"), key=len)\n",
    "    mol = Chem.MolFromSmiles(SMILES)\n",
    "    map4 = MAP4.calculate(mol)\n",
    "    return np.array(map4)"
   ]
  },
  {
   "cell_type": "code",
   "execution_count": 9,
   "metadata": {},
   "outputs": [
    {
     "data": {
      "application/vnd.jupyter.widget-view+json": {
       "model_id": "7f30a5fc89db4401b60050d2994152dc",
       "version_major": 2,
       "version_minor": 0
      },
      "text/plain": [
       "VBox(children=(HBox(children=(IntProgress(value=0, description='0.00%', max=42818), Label(value='0 / 42818')))…"
      ]
     },
     "metadata": {},
     "output_type": "display_data"
    }
   ],
   "source": [
    "glass[\"MAP4\"] = glass[\"Canonical SMILES\"].parallel_map(calc_map4)"
   ]
  },
  {
   "cell_type": "code",
   "execution_count": 4,
   "metadata": {},
   "outputs": [],
   "source": [
    "fps = glass[\"MAP4\"].tolist()\n",
    "fps_ = []\n",
    "\n",
    "for fp in fps:\n",
    "    fp_ = tm.VectorUint(fp)\n",
    "    fps_.append(fp_)\n",
    "\n",
    "lf = tm.LSHForest(1024, 32)\n",
    "lf.batch_add(fps_)\n",
    "\n",
    "lf.index()"
   ]
  },
  {
   "cell_type": "code",
   "execution_count": 5,
   "metadata": {},
   "outputs": [],
   "source": [
    "cfg = tm.LayoutConfiguration()\n",
    "\n",
    "# config\n",
    "cfg.node_size = 1 / 60\n",
    "cfg.mmm_repeats = 2\n",
    "cfg.sl_extra_scaling_steps = 50\n",
    "cfg.k = 30\n",
    "cfg.sl_scaling_type = tm.RelativeToAvgLength\n",
    "# Compute the layout\n",
    "\n",
    "x_, y_, s, t, gp = tm.layout_from_lsh_forest(lf, cfg)\n",
    "tm_layout = {\"x\": list(x_), \"y\": list(y_), \"s\" : list(s), \"t\" : list(t)}"
   ]
  },
  {
   "cell_type": "code",
   "execution_count": 6,
   "metadata": {},
   "outputs": [],
   "source": [
    "tmp = glass.copy()\n",
    "\n",
    "idx = tmp[tmp[\"Molecular Weight\"] >= 1000].index\n",
    "tmp.loc[idx, \"Molecular Weight\"] = 1000\n",
    "\n",
    "idx = tmp[tmp[\"Molecular Weight\"] <= 200].index\n",
    "tmp.loc[idx, \"Molecular Weight\"] = 200\n",
    "\n",
    "idx = tmp[tmp[\"Hydrogen Bond Acceptors\"] >= 10].index\n",
    "tmp.loc[idx, \"Hydrogen Bond Acceptors\"] = 10\n",
    "\n",
    "idx = tmp[tmp[\"Hydrogen Bond Donors\"] >= 5].index\n",
    "tmp.loc[idx, \"Hydrogen Bond Donors\"] = 5\n",
    "\n",
    "idx = tmp[tmp.XlogP >= 5].index\n",
    "tmp.loc[idx, \"XlogP\"] = 5\n",
    "\n",
    "idx = tmp[tmp.XlogP <= 0].index\n",
    "tmp.loc[idx, \"XlogP\"] = 0"
   ]
  },
  {
   "cell_type": "code",
   "execution_count": 7,
   "metadata": {},
   "outputs": [],
   "source": [
    "def create_label(row):\n",
    "    smiles = row[\"Isomeric SMILES\"]\n",
    "    ID = row[\"InChI Key\"].strip()\n",
    "    link = f'https://zhanggroup.org/GLASS/ligand.cgi?id={ID}'\n",
    "    label = f'{smiles}__<a target=\"_blank\" href={link}>{ID}</a>'\n",
    "    #label = smiles+\"__\"+NPAID+\"__\"+link\n",
    "    return label"
   ]
  },
  {
   "cell_type": "code",
   "execution_count": 8,
   "metadata": {},
   "outputs": [],
   "source": [
    "glass[\"label\"] = glass.apply(create_label,1)"
   ]
  },
  {
   "cell_type": "code",
   "execution_count": 9,
   "metadata": {},
   "outputs": [],
   "source": [
    "mw =  tmp[\"Molecular Weight\"].to_list()\n",
    "logp =  tmp[\"XlogP\"].to_list()\n",
    "hba =  tmp[\"Hydrogen Bond Donors\"].to_list()\n",
    "hbd =  tmp[\"Hydrogen Bond Acceptors\"].to_list()\n",
    "smiles =  glass[\"Isomeric SMILES\"].to_list()\n",
    "labels = glass[\"label\"].to_list()"
   ]
  },
  {
   "cell_type": "code",
   "execution_count": 10,
   "metadata": {},
   "outputs": [],
   "source": [
    "M4 = glass[\"M4_ligand\"].to_list()"
   ]
  },
  {
   "cell_type": "code",
   "execution_count": 11,
   "metadata": {},
   "outputs": [],
   "source": [
    "custom_cmap = ListedColormap(['darkgray', \"magenta\"], name=\"custom\")\n",
    "groups = [\"0-No\", \"1-Yes\"]\n",
    "labels_groups, groups = Faerun.create_categories(groups)"
   ]
  },
  {
   "cell_type": "code",
   "execution_count": 13,
   "metadata": {},
   "outputs": [
    {
     "data": {
      "text/html": [
       "\n",
       "        <iframe\n",
       "            width=\"100%\"\n",
       "            height=\"500\"\n",
       "            src=\"./GLASS.html\"\n",
       "            frameborder=\"0\"\n",
       "            allowfullscreen\n",
       "        ></iframe>\n",
       "        "
      ],
      "text/plain": [
       "<IPython.lib.display.IFrame at 0x7f6ab75c8e48>"
      ]
     },
     "metadata": {},
     "output_type": "display_data"
    },
    {
     "data": {
      "text/html": [
       "<a href='./GLASS.html' target='_blank'>./GLASS.html</a><br>"
      ],
      "text/plain": [
       "/home/alice/Code/GLASS_DB_visualization/GLASS.html"
      ]
     },
     "metadata": {},
     "output_type": "display_data"
    }
   ],
   "source": [
    "faerun = Faerun(view=\"front\", coords=False, title='GLASS')#, clear_color=\"#ffffff\",)\n",
    "faerun.add_scatter(\"GLASS\",{\"x\": tm.VectorFloat(tm_layout[\"x\"]), \"y\": tm.VectorFloat(tm_layout[\"y\"]),\\\n",
    "                                \"c\": [mw, logp, hba, hba, M4],\\\n",
    "                          \"labels\": labels}, has_legend=True, \\\n",
    "    colormap=[\"rainbow\", \"rainbow\", \"rainbow\", \"rainbow\", custom_cmap], \\\n",
    "        point_scale=3, categorical=[False, False, False, False, True],\\\n",
    "        series_title=[\"Molecular Weight\", \"XlogP\", \"Hydrogen Bond Donors\", \"Hydrogen Bond Donors\", \"targets Human M4 receptor\"], \\\n",
    "            max_legend_label=[\">=1000\", \">=5\", \">=10\", \">=5\", None],\\\n",
    "                   min_legend_label=[\"<=200\",\"<=0\", str(min(hba)), str(min(hbd)), None],\\\n",
    "                    legend_labels=[None, None, None, None, labels_groups])\n",
    "\n",
    "\n",
    "faerun.add_tree(\"GLASS_tree\", {\"from\": tm.VectorUint(tm_layout[\"s\"]), \"to\": tm.VectorUint(tm_layout[\"t\"])}, point_helper=\"GLASS\", color=\"aaaaaa\")\n",
    "faerun.plot('GLASS', template = 'smiles')"
   ]
  },
  {
   "cell_type": "code",
   "execution_count": null,
   "metadata": {},
   "outputs": [],
   "source": []
  }
 ],
 "metadata": {
  "kernelspec": {
   "display_name": "Python 3",
   "language": "python",
   "name": "python3"
  },
  "language_info": {
   "codemirror_mode": {
    "name": "ipython",
    "version": 3
   },
   "file_extension": ".py",
   "mimetype": "text/x-python",
   "name": "python",
   "nbconvert_exporter": "python",
   "pygments_lexer": "ipython3",
   "version": "3.6.10"
  }
 },
 "nbformat": 4,
 "nbformat_minor": 4
}
